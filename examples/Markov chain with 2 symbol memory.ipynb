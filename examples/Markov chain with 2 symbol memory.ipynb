{
 "cells": [
  {
   "cell_type": "code",
   "execution_count": 1,
   "metadata": {},
   "outputs": [
    {
     "name": "stdout",
     "output_type": "stream",
     "text": [
      "Populating the interactive namespace from numpy and matplotlib\n"
     ]
    }
   ],
   "source": [
    "%pylab inline"
   ]
  },
  {
   "cell_type": "code",
   "execution_count": 2,
   "metadata": {},
   "outputs": [
    {
     "name": "stdout",
     "output_type": "stream",
     "text": [
      "total 64\r\n",
      "drwxr-xr-x  6 epave  staff    204 May 17 11:34 \u001b[34m.\u001b[m\u001b[m/\r\n",
      "drwxr-xr-x@ 7 epave  staff    238 May 17 10:39 \u001b[34m..\u001b[m\u001b[m/\r\n",
      "-rw-r--r--@ 1 epave  staff   8196 May 17 10:55 .DS_Store\r\n",
      "drwxr-xr-x  3 epave  staff    102 May 17 10:39 \u001b[34m.ipynb_checkpoints\u001b[m\u001b[m/\r\n",
      "-rw-r--r--  1 epave  staff  20317 May 17 11:34 Untitled.ipynb\r\n",
      "drwxr-xr-x  7 epave  staff    238 May 17 10:55 \u001b[34mseql\u001b[m\u001b[m/\r\n"
     ]
    }
   ],
   "source": [
    "ls -al"
   ]
  },
  {
   "cell_type": "code",
   "execution_count": 3,
   "metadata": {},
   "outputs": [],
   "source": [
    "import pandas as pd\n",
    "import networkx as nx\n",
    "import seaborn as sns\n",
    "from sklearn.tree import DecisionTreeClassifier\n",
    "from seql import mc, utils"
   ]
  },
  {
   "cell_type": "code",
   "execution_count": 83,
   "metadata": {},
   "outputs": [],
   "source": [
    "transition = pd.DataFrame(columns=['^', 'A', 'B', 'AB', 'BA', 'AA', 'BB'], \n",
    "                          index=['A', 'B', 'AB', 'BA', 'AA', 'BB'])\n",
    "transition['^']['A'] = 0.49\n",
    "transition['^']['B'] = 0.51\n",
    "\n",
    "transition['A']['AB'] = 0.4\n",
    "transition['A']['AA'] = 0.6\n",
    "transition['B']['BA'] = 0.6\n",
    "transition['B']['BB'] = 0.4\n",
    "\n",
    "\n",
    "transition['AA']['AA'] = 0.1\n",
    "transition['AA']['AB'] = 0.9\n",
    "\n",
    "transition['BA']['AA'] = 0.4\n",
    "transition['BA']['AB'] = 0.6\n",
    "\n",
    "transition['AB']['BA'] = 0.7\n",
    "transition['AB']['BB'] = 0.3\n",
    "\n",
    "transition['BB']['BA'] = 0.7\n",
    "transition['BB']['BB'] = 0.3\n",
    "transition.fillna(0, inplace=True)"
   ]
  },
  {
   "cell_type": "code",
   "execution_count": 84,
   "metadata": {},
   "outputs": [
    {
     "data": {
      "text/plain": [
       "<matplotlib.axes._subplots.AxesSubplot at 0x112a40c18>"
      ]
     },
     "execution_count": 84,
     "metadata": {},
     "output_type": "execute_result"
    },
    {
     "data": {
      "image/png": "[encoded data removed]",
      "text/plain": [
       "<matplotlib.figure.Figure at 0x112a2d198>"
      ]
     },
     "metadata": {},
     "output_type": "display_data"
    }
   ],
   "source": [
    "sns.heatmap(transition.T)"
   ]
  },
  {
   "cell_type": "code",
   "execution_count": 89,
   "metadata": {},
   "outputs": [],
   "source": [
    "def generate_sequence(transition, length):\n",
    "    seq = []\n",
    "    for i in range(length):\n",
    "        if i == 0:\n",
    "            state = '^'\n",
    "        elif i == 1:\n",
    "            state = seq[0]\n",
    "        else:\n",
    "            state = ''.join(seq[(i-2):i])\n",
    "        probas = transition.ix[state]\n",
    "        probas = probas[probas>0]\n",
    "        if rand() < probas.max():\n",
    "            seq.append(probas.idxmax()[-1])\n",
    "        else:\n",
    "            \n",
    "            seq.append(probas.idxmin()[-1])\n",
    "                \n",
    "    return seq"
   ]
  },
  {
   "cell_type": "code",
   "execution_count": 90,
   "metadata": {},
   "outputs": [],
   "source": [
    "def generate_df(sequence, centers, dim=3):\n",
    "    states = transition.columns\n",
    "    rnd_data = randn(len(sequence), dim)\n",
    "    df = pd.DataFrame(index=range(len(sequence)), columns=range(dim))\n",
    "    for i in range(len(sequence)):\n",
    "        if i == 0:\n",
    "            state = sequence[0]\n",
    "        else:\n",
    "            state = ''.join(sequence[(i-1):(i+1)])\n",
    "        df.ix[i] = array(rnd_data[i]) + array(centers[state])\n",
    "    df['symbol'] = sequence\n",
    "    return df"
   ]
  },
  {
   "cell_type": "code",
   "execution_count": 91,
   "metadata": {},
   "outputs": [],
   "source": [
    "dim = 3\n",
    "centers = {state: rand(dim)*5 for state in transition.index}\n",
    "\n",
    "sequences = [generate_df(generate_sequence(transition.T, randint(10,30)), centers, dim) for i in range(100)]\n",
    "for i, seq in enumerate(sequences):\n",
    "    seq['seq_id'] = i"
   ]
  },
  {
   "cell_type": "code",
   "execution_count": 92,
   "metadata": {},
   "outputs": [],
   "source": [
    "df = pd.concat(sequences)"
   ]
  },
  {
   "cell_type": "code",
   "execution_count": 93,
   "metadata": {},
   "outputs": [
    {
     "data": {
      "text/html": [
       "<div>\n",
       "<table border=\"1\" class=\"dataframe\">\n",
       "  <thead>\n",
       "    <tr style=\"text-align: right;\">\n",
       "      <th></th>\n",
       "      <th>0</th>\n",
       "      <th>1</th>\n",
       "      <th>2</th>\n",
       "      <th>symbol</th>\n",
       "      <th>seq_id</th>\n",
       "    </tr>\n",
       "  </thead>\n",
       "  <tbody>\n",
       "    <tr>\n",
       "      <th>0</th>\n",
       "      <td>2.97222</td>\n",
       "      <td>4.80798</td>\n",
       "      <td>3.94992</td>\n",
       "      <td>B</td>\n",
       "      <td>0</td>\n",
       "    </tr>\n",
       "    <tr>\n",
       "      <th>1</th>\n",
       "      <td>0.565884</td>\n",
       "      <td>1.75121</td>\n",
       "      <td>0.396881</td>\n",
       "      <td>A</td>\n",
       "      <td>0</td>\n",
       "    </tr>\n",
       "    <tr>\n",
       "      <th>2</th>\n",
       "      <td>2.19778</td>\n",
       "      <td>1.55975</td>\n",
       "      <td>3.97495</td>\n",
       "      <td>A</td>\n",
       "      <td>0</td>\n",
       "    </tr>\n",
       "    <tr>\n",
       "      <th>3</th>\n",
       "      <td>5.07447</td>\n",
       "      <td>1.51725</td>\n",
       "      <td>4.80152</td>\n",
       "      <td>B</td>\n",
       "      <td>0</td>\n",
       "    </tr>\n",
       "    <tr>\n",
       "      <th>4</th>\n",
       "      <td>1.12441</td>\n",
       "      <td>2.05975</td>\n",
       "      <td>5.39223</td>\n",
       "      <td>B</td>\n",
       "      <td>0</td>\n",
       "    </tr>\n",
       "  </tbody>\n",
       "</table>\n",
       "</div>"
      ],
      "text/plain": [
       "          0        1         2 symbol  seq_id\n",
       "0   2.97222  4.80798   3.94992      B       0\n",
       "1  0.565884  1.75121  0.396881      A       0\n",
       "2   2.19778  1.55975   3.97495      A       0\n",
       "3   5.07447  1.51725   4.80152      B       0\n",
       "4   1.12441  2.05975   5.39223      B       0"
      ]
     },
     "execution_count": 93,
     "metadata": {},
     "output_type": "execute_result"
    }
   ],
   "source": [
    "df.head()"
   ]
  },
  {
   "cell_type": "code",
   "execution_count": 94,
   "metadata": {},
   "outputs": [],
   "source": [
    "model = mc.MarkovChainModel(DecisionTreeClassifier(), target_label='symbol', sequence_split_label='seq_id', max_state_length=2)"
   ]
  },
  {
   "cell_type": "code",
   "execution_count": 95,
   "metadata": {},
   "outputs": [
    {
     "data": {
      "text/plain": [
       "MarkovChainModel(base_estimator=CalibratedClassifierCV(base_estimator=DecisionTreeClassifier(class_weight=None, criterion='gini', max_depth=None,\n",
       "            max_features=None, max_leaf_nodes=None,\n",
       "            min_impurity_split=1e-07, min_samples_leaf=1,\n",
       "            min_samples_split=2, min_weight_fraction_leaf=0.0,\n",
       "            presort=False, random_state=None, splitter='best'),\n",
       "            cv=3, method='sigmoid'),\n",
       "         max_state_length=None, min_support=None,\n",
       "         sequence_split_label='seq_id', target_label='symbol')"
      ]
     },
     "execution_count": 95,
     "metadata": {},
     "output_type": "execute_result"
    }
   ],
   "source": [
    "model.fit(df)"
   ]
  },
  {
   "cell_type": "code",
   "execution_count": 96,
   "metadata": {},
   "outputs": [
    {
     "data": {
      "text/plain": [
       "<matplotlib.axes._subplots.AxesSubplot at 0x112d78048>"
      ]
     },
     "execution_count": 96,
     "metadata": {},
     "output_type": "execute_result"
    },
    {
     "data": {
      "image/png": "[encoded data removed]",
      "text/plain": [
       "<matplotlib.figure.Figure at 0x112d7b208>"
      ]
     },
     "metadata": {},
     "output_type": "display_data"
    }
   ],
   "source": [
    "sns.heatmap(model.trainsition_matrix.T)"
   ]
  },
  {
   "cell_type": "code",
   "execution_count": 97,
   "metadata": {},
   "outputs": [
    {
     "data": {
      "text/html": [
       "<div>\n",
       "<table border=\"1\" class=\"dataframe\">\n",
       "  <thead>\n",
       "    <tr style=\"text-align: right;\">\n",
       "      <th></th>\n",
       "      <th>A</th>\n",
       "      <th>AA</th>\n",
       "      <th>AB</th>\n",
       "      <th>B</th>\n",
       "      <th>BA</th>\n",
       "      <th>BB</th>\n",
       "    </tr>\n",
       "  </thead>\n",
       "  <tbody>\n",
       "    <tr>\n",
       "      <th>A</th>\n",
       "      <td>0.0</td>\n",
       "      <td>0.31</td>\n",
       "      <td>0.69</td>\n",
       "      <td>0.0</td>\n",
       "      <td>0.00</td>\n",
       "      <td>0.00</td>\n",
       "    </tr>\n",
       "    <tr>\n",
       "      <th>AA</th>\n",
       "      <td>0.0</td>\n",
       "      <td>0.31</td>\n",
       "      <td>0.69</td>\n",
       "      <td>0.0</td>\n",
       "      <td>0.00</td>\n",
       "      <td>0.00</td>\n",
       "    </tr>\n",
       "    <tr>\n",
       "      <th>AB</th>\n",
       "      <td>0.0</td>\n",
       "      <td>0.00</td>\n",
       "      <td>0.00</td>\n",
       "      <td>0.0</td>\n",
       "      <td>0.68</td>\n",
       "      <td>0.32</td>\n",
       "    </tr>\n",
       "    <tr>\n",
       "      <th>B</th>\n",
       "      <td>0.0</td>\n",
       "      <td>0.00</td>\n",
       "      <td>0.00</td>\n",
       "      <td>0.0</td>\n",
       "      <td>0.68</td>\n",
       "      <td>0.32</td>\n",
       "    </tr>\n",
       "    <tr>\n",
       "      <th>BA</th>\n",
       "      <td>0.0</td>\n",
       "      <td>0.31</td>\n",
       "      <td>0.69</td>\n",
       "      <td>0.0</td>\n",
       "      <td>0.00</td>\n",
       "      <td>0.00</td>\n",
       "    </tr>\n",
       "    <tr>\n",
       "      <th>BB</th>\n",
       "      <td>0.0</td>\n",
       "      <td>0.00</td>\n",
       "      <td>0.00</td>\n",
       "      <td>0.0</td>\n",
       "      <td>0.68</td>\n",
       "      <td>0.32</td>\n",
       "    </tr>\n",
       "    <tr>\n",
       "      <th>^</th>\n",
       "      <td>0.5</td>\n",
       "      <td>0.00</td>\n",
       "      <td>0.00</td>\n",
       "      <td>0.5</td>\n",
       "      <td>0.00</td>\n",
       "      <td>0.00</td>\n",
       "    </tr>\n",
       "  </tbody>\n",
       "</table>\n",
       "</div>"
      ],
      "text/plain": [
       "      A    AA    AB    B    BA    BB\n",
       "A   0.0  0.31  0.69  0.0  0.00  0.00\n",
       "AA  0.0  0.31  0.69  0.0  0.00  0.00\n",
       "AB  0.0  0.00  0.00  0.0  0.68  0.32\n",
       "B   0.0  0.00  0.00  0.0  0.68  0.32\n",
       "BA  0.0  0.31  0.69  0.0  0.00  0.00\n",
       "BB  0.0  0.00  0.00  0.0  0.68  0.32\n",
       "^   0.5  0.00  0.00  0.5  0.00  0.00"
      ]
     },
     "execution_count": 97,
     "metadata": {},
     "output_type": "execute_result"
    }
   ],
   "source": [
    "model.trainsition_matrix.T"
   ]
  },
  {
   "cell_type": "code",
   "execution_count": 98,
   "metadata": {},
   "outputs": [
    {
     "data": {
      "text/html": [
       "<div>\n",
       "<table border=\"1\" class=\"dataframe\">\n",
       "  <thead>\n",
       "    <tr style=\"text-align: right;\">\n",
       "      <th></th>\n",
       "      <th>A</th>\n",
       "      <th>B</th>\n",
       "      <th>AB</th>\n",
       "      <th>BA</th>\n",
       "      <th>AA</th>\n",
       "      <th>BB</th>\n",
       "    </tr>\n",
       "  </thead>\n",
       "  <tbody>\n",
       "    <tr>\n",
       "      <th>^</th>\n",
       "      <td>0.49</td>\n",
       "      <td>0.51</td>\n",
       "      <td>0.0</td>\n",
       "      <td>0.0</td>\n",
       "      <td>0.0</td>\n",
       "      <td>0.0</td>\n",
       "    </tr>\n",
       "    <tr>\n",
       "      <th>A</th>\n",
       "      <td>0.00</td>\n",
       "      <td>0.00</td>\n",
       "      <td>0.4</td>\n",
       "      <td>0.0</td>\n",
       "      <td>0.6</td>\n",
       "      <td>0.0</td>\n",
       "    </tr>\n",
       "    <tr>\n",
       "      <th>B</th>\n",
       "      <td>0.00</td>\n",
       "      <td>0.00</td>\n",
       "      <td>0.0</td>\n",
       "      <td>0.6</td>\n",
       "      <td>0.0</td>\n",
       "      <td>0.4</td>\n",
       "    </tr>\n",
       "    <tr>\n",
       "      <th>AB</th>\n",
       "      <td>0.00</td>\n",
       "      <td>0.00</td>\n",
       "      <td>0.0</td>\n",
       "      <td>0.7</td>\n",
       "      <td>0.0</td>\n",
       "      <td>0.3</td>\n",
       "    </tr>\n",
       "    <tr>\n",
       "      <th>BA</th>\n",
       "      <td>0.00</td>\n",
       "      <td>0.00</td>\n",
       "      <td>0.6</td>\n",
       "      <td>0.0</td>\n",
       "      <td>0.4</td>\n",
       "      <td>0.0</td>\n",
       "    </tr>\n",
       "    <tr>\n",
       "      <th>AA</th>\n",
       "      <td>0.00</td>\n",
       "      <td>0.00</td>\n",
       "      <td>0.9</td>\n",
       "      <td>0.0</td>\n",
       "      <td>0.1</td>\n",
       "      <td>0.0</td>\n",
       "    </tr>\n",
       "    <tr>\n",
       "      <th>BB</th>\n",
       "      <td>0.00</td>\n",
       "      <td>0.00</td>\n",
       "      <td>0.0</td>\n",
       "      <td>0.7</td>\n",
       "      <td>0.0</td>\n",
       "      <td>0.3</td>\n",
       "    </tr>\n",
       "  </tbody>\n",
       "</table>\n",
       "</div>"
      ],
      "text/plain": [
       "       A     B   AB   BA   AA   BB\n",
       "^   0.49  0.51  0.0  0.0  0.0  0.0\n",
       "A   0.00  0.00  0.4  0.0  0.6  0.0\n",
       "B   0.00  0.00  0.0  0.6  0.0  0.4\n",
       "AB  0.00  0.00  0.0  0.7  0.0  0.3\n",
       "BA  0.00  0.00  0.6  0.0  0.4  0.0\n",
       "AA  0.00  0.00  0.9  0.0  0.1  0.0\n",
       "BB  0.00  0.00  0.0  0.7  0.0  0.3"
      ]
     },
     "execution_count": 98,
     "metadata": {},
     "output_type": "execute_result"
    }
   ],
   "source": [
    "transition.T"
   ]
  },
  {
   "cell_type": "code",
   "execution_count": 101,
   "metadata": {},
   "outputs": [
    {
     "name": "stdout",
     "output_type": "stream",
     "text": [
      "SuffixTree('/root', count=1934)\n",
      "├── Node('/root/B', count=973)\n",
      "│   ├── Node('/root/B/BB', count=296)\n",
      "│   └── Node('/root/B/AB', count=628)\n",
      "└── Node('/root/A', count=961)\n",
      "    ├── Node('/root/A/BA', count=622)\n",
      "    └── Node('/root/A/AA', count=288)\n"
     ]
    }
   ],
   "source": [
    "print(model.suffix_tree.render())"
   ]
  },
  {
   "cell_type": "code",
   "execution_count": null,
   "metadata": {
    "collapsed": true
   },
   "outputs": [],
   "source": [
    "# distance between matrices"
   ]
  }
 ],
 "metadata": {
  "anaconda-cloud": {},
  "kernelspec": {
   "display_name": "Python [conda env:py35]",
   "language": "python",
   "name": "conda-env-py35-py"
  },
  "language_info": {
   "codemirror_mode": {
    "name": "ipython",
    "version": 3
   },
   "file_extension": ".py",
   "mimetype": "text/x-python",
   "name": "python",
   "nbconvert_exporter": "python",
   "pygments_lexer": "ipython3",
   "version": "3.5.3"
  }
 },
 "nbformat": 4,
 "nbformat_minor": 2
}
