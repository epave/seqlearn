{
 "cells": [
  {
   "cell_type": "code",
   "execution_count": 1,
   "metadata": {
    "collapsed": false
   },
   "outputs": [
    {
     "name": "stdout",
     "output_type": "stream",
     "text": [
      "Populating the interactive namespace from numpy and matplotlib\n"
     ]
    }
   ],
   "source": [
    "%pylab inline"
   ]
  },
  {
   "cell_type": "code",
   "execution_count": 2,
   "metadata": {
    "collapsed": true
   },
   "outputs": [],
   "source": [
    "%load_ext autoreload"
   ]
  },
  {
   "cell_type": "code",
   "execution_count": 3,
   "metadata": {
    "collapsed": false
   },
   "outputs": [],
   "source": [
    "%autoreload\n",
    "import pandas as pd\n",
    "import networkx as nx\n",
    "import seaborn as sns\n",
    "from sklearn.tree import DecisionTreeClassifier\n",
    "from seql import mc, utils"
   ]
  },
  {
   "cell_type": "code",
   "execution_count": 67,
   "metadata": {
    "collapsed": true
   },
   "outputs": [],
   "source": [
    "sns.set_context('poster')"
   ]
  },
  {
   "cell_type": "code",
   "execution_count": 4,
   "metadata": {
    "collapsed": false
   },
   "outputs": [],
   "source": [
    "data = pd.read_pickle('/Users/epave/Downloads/http_features.pickle')"
   ]
  },
  {
   "cell_type": "code",
   "execution_count": 5,
   "metadata": {
    "collapsed": false
   },
   "outputs": [
    {
     "data": {
      "text/html": [
       "<div>\n",
       "<table border=\"1\" class=\"dataframe\">\n",
       "  <thead>\n",
       "    <tr style=\"text-align: right;\">\n",
       "      <th></th>\n",
       "      <th>class</th>\n",
       "      <th>downloadRate</th>\n",
       "      <th>downloadRateHistory</th>\n",
       "      <th>downloadTime</th>\n",
       "      <th>downloadTimeHistory</th>\n",
       "      <th>networkQuality</th>\n",
       "      <th>requestNo</th>\n",
       "      <th>requestUrl</th>\n",
       "      <th>size</th>\n",
       "      <th>sizeHistory</th>\n",
       "      <th>timeFromLastRequest</th>\n",
       "      <th>timeFromLastRequestHistory</th>\n",
       "      <th>videoDuration</th>\n",
       "      <th>videoId</th>\n",
       "      <th>videoUrl</th>\n",
       "      <th>sizeHistoryA</th>\n",
       "      <th>downloadRateHistoryA</th>\n",
       "      <th>timeFromLastRequestHistoryA</th>\n",
       "      <th>downloadTimeHistoryA</th>\n",
       "    </tr>\n",
       "  </thead>\n",
       "  <tbody>\n",
       "    <tr>\n",
       "      <th>36</th>\n",
       "      <td>video</td>\n",
       "      <td>1168.381372</td>\n",
       "      <td>[0.240780260758, 186.516434113, 1242.45979121,...</td>\n",
       "      <td>98.948</td>\n",
       "      <td>[4219.615, 497.806, 58.8180000004, 67.37400000...</td>\n",
       "      <td>No trottling</td>\n",
       "      <td>36</td>\n",
       "      <td>https://r6---sn-gvnuxaxjvh-c35e.googlevideo.co...</td>\n",
       "      <td>115609</td>\n",
       "      <td>[1016, 92849, 73079, 127642, 192250, 239206, 1...</td>\n",
       "      <td>2.213</td>\n",
       "      <td>[0, 4.751, 0.629, 0.01, 0.005, 0.001, 0.003, 0...</td>\n",
       "      <td>183</td>\n",
       "      <td>0</td>\n",
       "      <td>https://www.youtube.com/watch?v=-BAUznX8HOE</td>\n",
       "      <td>[]</td>\n",
       "      <td>[]</td>\n",
       "      <td>[]</td>\n",
       "      <td>[]</td>\n",
       "    </tr>\n",
       "    <tr>\n",
       "      <th>37</th>\n",
       "      <td>audio</td>\n",
       "      <td>703.152364</td>\n",
       "      <td>[0.240780260758, 186.516434113, 1242.45979121,...</td>\n",
       "      <td>95.928</td>\n",
       "      <td>[4219.615, 497.806, 58.8180000004, 67.37400000...</td>\n",
       "      <td>No trottling</td>\n",
       "      <td>37</td>\n",
       "      <td>https://r6---sn-gvnuxaxjvh-c35e.googlevideo.co...</td>\n",
       "      <td>67452</td>\n",
       "      <td>[1016, 92849, 73079, 127642, 192250, 239206, 1...</td>\n",
       "      <td>0.005</td>\n",
       "      <td>[0, 4.751, 0.629, 0.01, 0.005, 0.001, 0.003, 0...</td>\n",
       "      <td>183</td>\n",
       "      <td>0</td>\n",
       "      <td>https://www.youtube.com/watch?v=-BAUznX8HOE</td>\n",
       "      <td>[115609]</td>\n",
       "      <td>[1168.38137204]</td>\n",
       "      <td>[2.213]</td>\n",
       "      <td>[98.9479999998]</td>\n",
       "    </tr>\n",
       "    <tr>\n",
       "      <th>45</th>\n",
       "      <td>video</td>\n",
       "      <td>324.125963</td>\n",
       "      <td>[0.240780260758, 186.516434113, 1242.45979121,...</td>\n",
       "      <td>356.707</td>\n",
       "      <td>[4219.615, 497.806, 58.8180000004, 67.37400000...</td>\n",
       "      <td>No trottling</td>\n",
       "      <td>45</td>\n",
       "      <td>https://r6---sn-gvnuxaxjvh-c35e.googlevideo.co...</td>\n",
       "      <td>115618</td>\n",
       "      <td>[1016, 92849, 73079, 127642, 192250, 239206, 1...</td>\n",
       "      <td>0.048</td>\n",
       "      <td>[0, 4.751, 0.629, 0.01, 0.005, 0.001, 0.003, 0...</td>\n",
       "      <td>183</td>\n",
       "      <td>0</td>\n",
       "      <td>https://www.youtube.com/watch?v=-BAUznX8HOE</td>\n",
       "      <td>[115609, 67452]</td>\n",
       "      <td>[1168.38137204, 703.152364275]</td>\n",
       "      <td>[2.213, 0.005]</td>\n",
       "      <td>[98.9479999998, 95.9279999997]</td>\n",
       "    </tr>\n",
       "    <tr>\n",
       "      <th>46</th>\n",
       "      <td>audio</td>\n",
       "      <td>896.545047</td>\n",
       "      <td>[0.240780260758, 186.516434113, 1242.45979121,...</td>\n",
       "      <td>87.787</td>\n",
       "      <td>[4219.615, 497.806, 58.8180000004, 67.37400000...</td>\n",
       "      <td>No trottling</td>\n",
       "      <td>46</td>\n",
       "      <td>https://r6---sn-gvnuxaxjvh-c35e.googlevideo.co...</td>\n",
       "      <td>78705</td>\n",
       "      <td>[1016, 92849, 73079, 127642, 192250, 239206, 1...</td>\n",
       "      <td>0.503</td>\n",
       "      <td>[0, 4.751, 0.629, 0.01, 0.005, 0.001, 0.003, 0...</td>\n",
       "      <td>183</td>\n",
       "      <td>0</td>\n",
       "      <td>https://www.youtube.com/watch?v=-BAUznX8HOE</td>\n",
       "      <td>[115609, 67452, 115618]</td>\n",
       "      <td>[1168.38137204, 703.152364275, 324.125963326]</td>\n",
       "      <td>[2.213, 0.005, 0.048]</td>\n",
       "      <td>[98.9479999998, 95.9279999997, 356.707]</td>\n",
       "    </tr>\n",
       "    <tr>\n",
       "      <th>47</th>\n",
       "      <td>video</td>\n",
       "      <td>1454.357900</td>\n",
       "      <td>[0.240780260758, 186.516434113, 1242.45979121,...</td>\n",
       "      <td>157.530</td>\n",
       "      <td>[4219.615, 497.806, 58.8180000004, 67.37400000...</td>\n",
       "      <td>No trottling</td>\n",
       "      <td>47</td>\n",
       "      <td>https://r6---sn-gvnuxaxjvh-c35e.googlevideo.co...</td>\n",
       "      <td>229105</td>\n",
       "      <td>[1016, 92849, 73079, 127642, 192250, 239206, 1...</td>\n",
       "      <td>0.222</td>\n",
       "      <td>[0, 4.751, 0.629, 0.01, 0.005, 0.001, 0.003, 0...</td>\n",
       "      <td>183</td>\n",
       "      <td>0</td>\n",
       "      <td>https://www.youtube.com/watch?v=-BAUznX8HOE</td>\n",
       "      <td>[115609, 67452, 115618, 78705]</td>\n",
       "      <td>[1168.38137204, 703.152364275, 324.125963326, ...</td>\n",
       "      <td>[2.213, 0.005, 0.048, 0.503]</td>\n",
       "      <td>[98.9479999998, 95.9279999997, 356.707, 87.787...</td>\n",
       "    </tr>\n",
       "  </tbody>\n",
       "</table>\n",
       "</div>"
      ],
      "text/plain": [
       "    class  downloadRate                                downloadRateHistory  \\\n",
       "36  video   1168.381372  [0.240780260758, 186.516434113, 1242.45979121,...   \n",
       "37  audio    703.152364  [0.240780260758, 186.516434113, 1242.45979121,...   \n",
       "45  video    324.125963  [0.240780260758, 186.516434113, 1242.45979121,...   \n",
       "46  audio    896.545047  [0.240780260758, 186.516434113, 1242.45979121,...   \n",
       "47  video   1454.357900  [0.240780260758, 186.516434113, 1242.45979121,...   \n",
       "\n",
       "    downloadTime                                downloadTimeHistory  \\\n",
       "36        98.948  [4219.615, 497.806, 58.8180000004, 67.37400000...   \n",
       "37        95.928  [4219.615, 497.806, 58.8180000004, 67.37400000...   \n",
       "45       356.707  [4219.615, 497.806, 58.8180000004, 67.37400000...   \n",
       "46        87.787  [4219.615, 497.806, 58.8180000004, 67.37400000...   \n",
       "47       157.530  [4219.615, 497.806, 58.8180000004, 67.37400000...   \n",
       "\n",
       "   networkQuality  requestNo  \\\n",
       "36   No trottling         36   \n",
       "37   No trottling         37   \n",
       "45   No trottling         45   \n",
       "46   No trottling         46   \n",
       "47   No trottling         47   \n",
       "\n",
       "                                           requestUrl    size  \\\n",
       "36  https://r6---sn-gvnuxaxjvh-c35e.googlevideo.co...  115609   \n",
       "37  https://r6---sn-gvnuxaxjvh-c35e.googlevideo.co...   67452   \n",
       "45  https://r6---sn-gvnuxaxjvh-c35e.googlevideo.co...  115618   \n",
       "46  https://r6---sn-gvnuxaxjvh-c35e.googlevideo.co...   78705   \n",
       "47  https://r6---sn-gvnuxaxjvh-c35e.googlevideo.co...  229105   \n",
       "\n",
       "                                          sizeHistory  timeFromLastRequest  \\\n",
       "36  [1016, 92849, 73079, 127642, 192250, 239206, 1...                2.213   \n",
       "37  [1016, 92849, 73079, 127642, 192250, 239206, 1...                0.005   \n",
       "45  [1016, 92849, 73079, 127642, 192250, 239206, 1...                0.048   \n",
       "46  [1016, 92849, 73079, 127642, 192250, 239206, 1...                0.503   \n",
       "47  [1016, 92849, 73079, 127642, 192250, 239206, 1...                0.222   \n",
       "\n",
       "                           timeFromLastRequestHistory  videoDuration  videoId  \\\n",
       "36  [0, 4.751, 0.629, 0.01, 0.005, 0.001, 0.003, 0...            183        0   \n",
       "37  [0, 4.751, 0.629, 0.01, 0.005, 0.001, 0.003, 0...            183        0   \n",
       "45  [0, 4.751, 0.629, 0.01, 0.005, 0.001, 0.003, 0...            183        0   \n",
       "46  [0, 4.751, 0.629, 0.01, 0.005, 0.001, 0.003, 0...            183        0   \n",
       "47  [0, 4.751, 0.629, 0.01, 0.005, 0.001, 0.003, 0...            183        0   \n",
       "\n",
       "                                       videoUrl  \\\n",
       "36  https://www.youtube.com/watch?v=-BAUznX8HOE   \n",
       "37  https://www.youtube.com/watch?v=-BAUznX8HOE   \n",
       "45  https://www.youtube.com/watch?v=-BAUznX8HOE   \n",
       "46  https://www.youtube.com/watch?v=-BAUznX8HOE   \n",
       "47  https://www.youtube.com/watch?v=-BAUznX8HOE   \n",
       "\n",
       "                      sizeHistoryA  \\\n",
       "36                              []   \n",
       "37                        [115609]   \n",
       "45                 [115609, 67452]   \n",
       "46         [115609, 67452, 115618]   \n",
       "47  [115609, 67452, 115618, 78705]   \n",
       "\n",
       "                                 downloadRateHistoryA  \\\n",
       "36                                                 []   \n",
       "37                                    [1168.38137204]   \n",
       "45                     [1168.38137204, 703.152364275]   \n",
       "46      [1168.38137204, 703.152364275, 324.125963326]   \n",
       "47  [1168.38137204, 703.152364275, 324.125963326, ...   \n",
       "\n",
       "     timeFromLastRequestHistoryA  \\\n",
       "36                            []   \n",
       "37                       [2.213]   \n",
       "45                [2.213, 0.005]   \n",
       "46         [2.213, 0.005, 0.048]   \n",
       "47  [2.213, 0.005, 0.048, 0.503]   \n",
       "\n",
       "                                 downloadTimeHistoryA  \n",
       "36                                                 []  \n",
       "37                                    [98.9479999998]  \n",
       "45                     [98.9479999998, 95.9279999997]  \n",
       "46            [98.9479999998, 95.9279999997, 356.707]  \n",
       "47  [98.9479999998, 95.9279999997, 356.707, 87.787...  "
      ]
     },
     "execution_count": 5,
     "metadata": {},
     "output_type": "execute_result"
    }
   ],
   "source": [
    "data.head()"
   ]
  },
  {
   "cell_type": "code",
   "execution_count": 6,
   "metadata": {
    "collapsed": false
   },
   "outputs": [],
   "source": [
    "sample = data[['class', 'downloadRate', 'networkQuality', 'requestNo', 'size', 'timeFromLastRequest', 'videoId']]"
   ]
  },
  {
   "cell_type": "code",
   "execution_count": 40,
   "metadata": {
    "collapsed": false
   },
   "outputs": [
    {
     "data": {
      "text/plain": [
       "array(['No trottling', 'Regular 2G', 'Regular 3G', 'Regular 4G'], dtype=object)"
      ]
     },
     "execution_count": 40,
     "metadata": {},
     "output_type": "execute_result"
    }
   ],
   "source": [
    "sample.networkQuality.unique()"
   ]
  },
  {
   "cell_type": "code",
   "execution_count": 73,
   "metadata": {
    "collapsed": false
   },
   "outputs": [
    {
     "data": {
      "text/plain": [
       "<seaborn.axisgrid.FacetGrid at 0x135324f98>"
      ]
     },
     "execution_count": 73,
     "metadata": {},
     "output_type": "execute_result"
    },
    {
     "data": {
      "image/png": "[encoded data removed]",
      "text/plain": [
       "<matplotlib.figure.Figure at 0x1352fe2e8>"
      ]
     },
     "metadata": {},
     "output_type": "display_data"
    }
   ],
   "source": [
    "toplot = sample.groupby(['networkQuality', 'videoId']).apply(len).reset_index().rename_axis({0: 'Number of GET requests'}, axis=1)\n",
    "g = sns.FacetGrid(toplot, col='networkQuality', col_wrap=2,sharey=False,sharex=True,margin_titles=True,size=5,\n",
    "                  col_order=['No trottling', 'Regular 4G', 'Regular 3G', 'Regular 2G'])\n",
    "g.map(sns.distplot, 'Number of GET requests', kde=False)"
   ]
  },
  {
   "cell_type": "code",
   "execution_count": 85,
   "metadata": {
    "collapsed": false
   },
   "outputs": [
    {
     "name": "stdout",
     "output_type": "stream",
     "text": [
      "\\begin{tabular}{llr}\n",
      "\\toprule\n",
      "             &       &  Number of GET requests \\\\\n",
      "networkQuality & {} &                         \\\\\n",
      "\\midrule\n",
      "No trottling & count &                      97 \\\\\n",
      "             & mean &                      35 \\\\\n",
      "             & std &                      25 \\\\\n",
      "             & min &                       2 \\\\\n",
      "             & 25\\% &                      17 \\\\\n",
      "             & 50\\% &                      26 \\\\\n",
      "             & 75\\% &                      49 \\\\\n",
      "             & max &                     136 \\\\\n",
      "Regular 2G & count &                      99 \\\\\n",
      "             & mean &                      55 \\\\\n",
      "             & std &                      31 \\\\\n",
      "             & min &                       3 \\\\\n",
      "             & 25\\% &                      29 \\\\\n",
      "             & 50\\% &                      51 \\\\\n",
      "             & 75\\% &                      79 \\\\\n",
      "             & max &                     140 \\\\\n",
      "Regular 3G & count &                      97 \\\\\n",
      "             & mean &                      61 \\\\\n",
      "             & std &                      49 \\\\\n",
      "             & min &                       7 \\\\\n",
      "             & 25\\% &                      26 \\\\\n",
      "             & 50\\% &                      42 \\\\\n",
      "             & 75\\% &                      97 \\\\\n",
      "             & max &                     274 \\\\\n",
      "Regular 4G & count &                      98 \\\\\n",
      "             & mean &                      35 \\\\\n",
      "             & std &                      22 \\\\\n",
      "             & min &                       6 \\\\\n",
      "             & 25\\% &                      18 \\\\\n",
      "             & 50\\% &                      26 \\\\\n",
      "             & 75\\% &                      49 \\\\\n",
      "             & max &                     110 \\\\\n",
      "\\bottomrule\n",
      "\\end{tabular}\n",
      "\n"
     ]
    }
   ],
   "source": [
    "print(toplot.groupby('networkQuality')[['Number of GET requests']].describe().astype(int).to_latex())"
   ]
  },
  {
   "cell_type": "code",
   "execution_count": 7,
   "metadata": {
    "collapsed": false
   },
   "outputs": [
    {
     "name": "stderr",
     "output_type": "stream",
     "text": [
      "/Users/epave/anaconda/lib/python3.6/site-packages/ipykernel/__main__.py:1: SettingWithCopyWarning: \n",
      "A value is trying to be set on a copy of a slice from a DataFrame.\n",
      "Try using .loc[row_indexer,col_indexer] = value instead\n",
      "\n",
      "See the caveats in the documentation: http://pandas.pydata.org/pandas-docs/stable/indexing.html#indexing-view-versus-copy\n",
      "  if __name__ == '__main__':\n"
     ]
    }
   ],
   "source": [
    "sample['class'] = sample['class'].replace({'audio': 'A', 'video': 'V'})"
   ]
  },
  {
   "cell_type": "code",
   "execution_count": 8,
   "metadata": {
    "collapsed": false
   },
   "outputs": [
    {
     "data": {
      "text/html": [
       "<div>\n",
       "<table border=\"1\" class=\"dataframe\">\n",
       "  <thead>\n",
       "    <tr style=\"text-align: right;\">\n",
       "      <th></th>\n",
       "      <th>class</th>\n",
       "      <th>downloadRate</th>\n",
       "      <th>networkQuality</th>\n",
       "      <th>requestNo</th>\n",
       "      <th>size</th>\n",
       "      <th>timeFromLastRequest</th>\n",
       "      <th>videoId</th>\n",
       "    </tr>\n",
       "  </thead>\n",
       "  <tbody>\n",
       "    <tr>\n",
       "      <th>36</th>\n",
       "      <td>V</td>\n",
       "      <td>1168.381372</td>\n",
       "      <td>No trottling</td>\n",
       "      <td>36</td>\n",
       "      <td>115609</td>\n",
       "      <td>2.213</td>\n",
       "      <td>0</td>\n",
       "    </tr>\n",
       "    <tr>\n",
       "      <th>37</th>\n",
       "      <td>A</td>\n",
       "      <td>703.152364</td>\n",
       "      <td>No trottling</td>\n",
       "      <td>37</td>\n",
       "      <td>67452</td>\n",
       "      <td>0.005</td>\n",
       "      <td>0</td>\n",
       "    </tr>\n",
       "    <tr>\n",
       "      <th>45</th>\n",
       "      <td>V</td>\n",
       "      <td>324.125963</td>\n",
       "      <td>No trottling</td>\n",
       "      <td>45</td>\n",
       "      <td>115618</td>\n",
       "      <td>0.048</td>\n",
       "      <td>0</td>\n",
       "    </tr>\n",
       "    <tr>\n",
       "      <th>46</th>\n",
       "      <td>A</td>\n",
       "      <td>896.545047</td>\n",
       "      <td>No trottling</td>\n",
       "      <td>46</td>\n",
       "      <td>78705</td>\n",
       "      <td>0.503</td>\n",
       "      <td>0</td>\n",
       "    </tr>\n",
       "    <tr>\n",
       "      <th>47</th>\n",
       "      <td>V</td>\n",
       "      <td>1454.357900</td>\n",
       "      <td>No trottling</td>\n",
       "      <td>47</td>\n",
       "      <td>229105</td>\n",
       "      <td>0.222</td>\n",
       "      <td>0</td>\n",
       "    </tr>\n",
       "  </tbody>\n",
       "</table>\n",
       "</div>"
      ],
      "text/plain": [
       "   class  downloadRate networkQuality  requestNo    size  timeFromLastRequest  \\\n",
       "36     V   1168.381372   No trottling         36  115609                2.213   \n",
       "37     A    703.152364   No trottling         37   67452                0.005   \n",
       "45     V    324.125963   No trottling         45  115618                0.048   \n",
       "46     A    896.545047   No trottling         46   78705                0.503   \n",
       "47     V   1454.357900   No trottling         47  229105                0.222   \n",
       "\n",
       "    videoId  \n",
       "36        0  \n",
       "37        0  \n",
       "45        0  \n",
       "46        0  \n",
       "47        0  "
      ]
     },
     "execution_count": 8,
     "metadata": {},
     "output_type": "execute_result"
    }
   ],
   "source": [
    "sample.head()"
   ]
  },
  {
   "cell_type": "code",
   "execution_count": 10,
   "metadata": {
    "collapsed": true
   },
   "outputs": [],
   "source": [
    "sample = sample[logical_not(sample.videoId.isin([102,52,32,90,57,45]))]"
   ]
  },
  {
   "cell_type": "code",
   "execution_count": 9,
   "metadata": {
    "collapsed": false
   },
   "outputs": [
    {
     "data": {
      "text/plain": [
       "videoId\n",
       "102    2\n",
       "52     2\n",
       "32     7\n",
       "90     7\n",
       "57     8\n",
       "dtype: int64"
      ]
     },
     "execution_count": 9,
     "metadata": {},
     "output_type": "execute_result"
    }
   ],
   "source": [
    "sample[sample.networkQuality == 'No trottling'].groupby('videoId').apply(len).sort_values().head()"
   ]
  },
  {
   "cell_type": "code",
   "execution_count": 10,
   "metadata": {
    "collapsed": false
   },
   "outputs": [
    {
     "data": {
      "text/plain": [
       "array(['No trottling', 'Regular 2G', 'Regular 3G', 'Regular 4G'], dtype=object)"
      ]
     },
     "execution_count": 10,
     "metadata": {},
     "output_type": "execute_result"
    }
   ],
   "source": [
    "sample.networkQuality.unique()"
   ]
  },
  {
   "cell_type": "code",
   "execution_count": 11,
   "metadata": {
    "collapsed": true
   },
   "outputs": [],
   "source": [
    "max_length = 3"
   ]
  },
  {
   "cell_type": "code",
   "execution_count": 15,
   "metadata": {
    "collapsed": false
   },
   "outputs": [
    {
     "data": {
      "text/plain": [
       "<matplotlib.axes._subplots.AxesSubplot at 0x12110ebe0>"
      ]
     },
     "execution_count": 15,
     "metadata": {},
     "output_type": "execute_result"
    },
    {
     "data": {
      "image/png": "[encoded data removed]",
      "text/plain": [
       "<matplotlib.figure.Figure at 0x122186f28>"
      ]
     },
     "metadata": {},
     "output_type": "display_data"
    }
   ],
   "source": [
    "model_nt = mc.MarkovChainModel(DecisionTreeClassifier(), target_label='class', sequence_split_label='videoId',\n",
    "                           max_state_length=max_length)\n",
    "model_nt.fit(sample[sample.networkQuality == 'No trottling'].drop('networkQuality', axis=1))\n",
    "sns.heatmap(model_nt.transition_matrix, cmap=cm.bone_r)"
   ]
  },
  {
   "cell_type": "code",
   "execution_count": 16,
   "metadata": {
    "collapsed": false
   },
   "outputs": [
    {
     "data": {
      "text/plain": [
       "<matplotlib.axes._subplots.AxesSubplot at 0x120c8b748>"
      ]
     },
     "execution_count": 16,
     "metadata": {},
     "output_type": "execute_result"
    },
    {
     "data": {
      "image/png": "[encoded data removed]",
      "text/plain": [
       "<matplotlib.figure.Figure at 0x1226c02b0>"
      ]
     },
     "metadata": {},
     "output_type": "display_data"
    }
   ],
   "source": [
    "model_4g = mc.MarkovChainModel(DecisionTreeClassifier(), target_label='class', sequence_split_label='videoId',\n",
    "                           max_state_length=max_length)\n",
    "model_4g.fit(sample[sample.networkQuality == 'Regular 4G'].drop('networkQuality', axis=1))\n",
    "sns.heatmap(model_4g.transition_matrix, cmap=cm.bone_r)"
   ]
  },
  {
   "cell_type": "code",
   "execution_count": 19,
   "metadata": {
    "collapsed": false
   },
   "outputs": [
    {
     "data": {
      "image/png": "[encoded data removed]",
      "text/plain": [
       "<matplotlib.figure.Figure at 0x1219b63c8>"
      ]
     },
     "metadata": {},
     "output_type": "display_data"
    }
   ],
   "source": [
    "model_4g.transition_graph"
   ]
  },
  {
   "cell_type": "code",
   "execution_count": 41,
   "metadata": {
    "collapsed": false
   },
   "outputs": [
    {
     "data": {
      "text/plain": [
       "<matplotlib.axes._subplots.AxesSubplot at 0x116abe588>"
      ]
     },
     "execution_count": 41,
     "metadata": {},
     "output_type": "execute_result"
    },
    {
     "data": {
      "image/png": "[encoded data removed]",
      "text/plain": [
       "<matplotlib.figure.Figure at 0x1239f8a58>"
      ]
     },
     "metadata": {},
     "output_type": "display_data"
    }
   ],
   "source": [
    "model_3g = mc.MarkovChainModel(DecisionTreeClassifier(), target_label='class', sequence_split_label='videoId',\n",
    "                           max_state_length=max_length)\n",
    "model_3g.fit(sample[sample.networkQuality == 'Regular 3G'].drop('networkQuality', axis=1))\n",
    "sns.heatmap(model_3g.transition_matrix)"
   ]
  },
  {
   "cell_type": "code",
   "execution_count": 42,
   "metadata": {
    "collapsed": false
   },
   "outputs": [
    {
     "data": {
      "text/plain": [
       "<matplotlib.axes._subplots.AxesSubplot at 0x118885f28>"
      ]
     },
     "execution_count": 42,
     "metadata": {},
     "output_type": "execute_result"
    },
    {
     "data": {
      "image/png": "[encoded data removed]",
      "text/plain": [
       "<matplotlib.figure.Figure at 0x118887b70>"
      ]
     },
     "metadata": {},
     "output_type": "display_data"
    }
   ],
   "source": [
    "model_2g = mc.MarkovChainModel(DecisionTreeClassifier(), target_label='class', sequence_split_label='videoId',\n",
    "                           max_state_length=max_length)\n",
    "model_2g.fit(sample[sample.networkQuality == 'Regular 2G'].drop('networkQuality', axis=1))\n",
    "sns.heatmap(model_2g.transition_matrix)"
   ]
  },
  {
   "cell_type": "code",
   "execution_count": 43,
   "metadata": {
    "collapsed": false
   },
   "outputs": [],
   "source": [
    "similarity = pd.DataFrame(columns=range(4), index=range(4), dtype=float)\n",
    "for a, model_a in enumerate([model_nt, model_4g, model_3g, model_2g]):\n",
    "    for b, model_b in enumerate([model_nt, model_4g, model_3g, model_2g]):\n",
    "        similarity[a][b] = model_a.transition_graph.calc_similarity(model_b.transition_graph.to_matrix())"
   ]
  },
  {
   "cell_type": "code",
   "execution_count": 44,
   "metadata": {
    "collapsed": false
   },
   "outputs": [],
   "source": [
    "similarity.columns = ['No trottling', 'Regular 4G', 'Regular 3G', 'Regular 2G']\n",
    "similarity.index = ['No trottling', 'Regular 4G', 'Regular 3G', 'Regular 2G']"
   ]
  },
  {
   "cell_type": "code",
   "execution_count": 45,
   "metadata": {
    "collapsed": false
   },
   "outputs": [
    {
     "data": {
      "text/html": [
       "<div>\n",
       "<table border=\"1\" class=\"dataframe\">\n",
       "  <thead>\n",
       "    <tr style=\"text-align: right;\">\n",
       "      <th></th>\n",
       "      <th>No trottling</th>\n",
       "      <th>Regular 4G</th>\n",
       "      <th>Regular 3G</th>\n",
       "      <th>Regular 2G</th>\n",
       "    </tr>\n",
       "  </thead>\n",
       "  <tbody>\n",
       "    <tr>\n",
       "      <th>No trottling</th>\n",
       "      <td>1.000000</td>\n",
       "      <td>0.962488</td>\n",
       "      <td>0.898048</td>\n",
       "      <td>0.904385</td>\n",
       "    </tr>\n",
       "    <tr>\n",
       "      <th>Regular 4G</th>\n",
       "      <td>0.962488</td>\n",
       "      <td>1.000000</td>\n",
       "      <td>0.885451</td>\n",
       "      <td>0.916145</td>\n",
       "    </tr>\n",
       "    <tr>\n",
       "      <th>Regular 3G</th>\n",
       "      <td>0.898048</td>\n",
       "      <td>0.885451</td>\n",
       "      <td>1.000000</td>\n",
       "      <td>0.904075</td>\n",
       "    </tr>\n",
       "    <tr>\n",
       "      <th>Regular 2G</th>\n",
       "      <td>0.904385</td>\n",
       "      <td>0.916145</td>\n",
       "      <td>0.904075</td>\n",
       "      <td>1.000000</td>\n",
       "    </tr>\n",
       "  </tbody>\n",
       "</table>\n",
       "</div>"
      ],
      "text/plain": [
       "              No trottling  Regular 4G  Regular 3G  Regular 2G\n",
       "No trottling      1.000000    0.962488    0.898048    0.904385\n",
       "Regular 4G        0.962488    1.000000    0.885451    0.916145\n",
       "Regular 3G        0.898048    0.885451    1.000000    0.904075\n",
       "Regular 2G        0.904385    0.916145    0.904075    1.000000"
      ]
     },
     "execution_count": 45,
     "metadata": {},
     "output_type": "execute_result"
    }
   ],
   "source": [
    "similarity"
   ]
  },
  {
   "cell_type": "code",
   "execution_count": 46,
   "metadata": {
    "collapsed": false,
    "scrolled": false
   },
   "outputs": [
    {
     "data": {
      "text/plain": [
       "<matplotlib.axes._subplots.AxesSubplot at 0x11b774f28>"
      ]
     },
     "execution_count": 46,
     "metadata": {},
     "output_type": "execute_result"
    },
    {
     "data": {
      "image/png": "[encoded data removed]",
      "text/plain": [
       "<matplotlib.figure.Figure at 0x1187c66a0>"
      ]
     },
     "metadata": {},
     "output_type": "display_data"
    }
   ],
   "source": [
    "sns.heatmap(similarity)"
   ]
  },
  {
   "cell_type": "code",
   "execution_count": 49,
   "metadata": {
    "collapsed": false
   },
   "outputs": [],
   "source": [
    "pred = model_nt.query(sample[logical_and(sample.networkQuality == 'No trottling',\n",
    "                                  sample.videoId == 3)].drop(['networkQuality', 'class', 'videoId'], axis=1), \n",
    "               return_states_history=True)"
   ]
  },
  {
   "cell_type": "code",
   "execution_count": 50,
   "metadata": {
    "collapsed": false
   },
   "outputs": [],
   "source": [
    "real = sample[logical_and(sample.networkQuality == 'No trottling',\n",
    "                                  sample.videoId == 3)]['class']"
   ]
  },
  {
   "cell_type": "code",
   "execution_count": 51,
   "metadata": {
    "collapsed": false
   },
   "outputs": [
    {
     "data": {
      "text/plain": [
       "'V'"
      ]
     },
     "execution_count": 51,
     "metadata": {},
     "output_type": "execute_result"
    }
   ],
   "source": [
    "pred[0]"
   ]
  },
  {
   "cell_type": "code",
   "execution_count": 52,
   "metadata": {
    "collapsed": false
   },
   "outputs": [
    {
     "data": {
      "text/plain": [
       "'VAVAVAVAVAAVAVAAVAVAVAAVAVAAVAVAAVAVAAVAVAA'"
      ]
     },
     "execution_count": 52,
     "metadata": {},
     "output_type": "execute_result"
    }
   ],
   "source": [
    "''.join(real.values[2:])"
   ]
  },
  {
   "cell_type": "code",
   "execution_count": 53,
   "metadata": {
    "collapsed": false
   },
   "outputs": [
    {
     "data": {
      "text/plain": [
       "'AVAVAVAVAVVAVAVVAVAVAVVAVAVVAVAVVAVAVVAVAVV'"
      ]
     },
     "execution_count": 53,
     "metadata": {},
     "output_type": "execute_result"
    }
   ],
   "source": [
    "''.join(pred[1].apply(lambda x: x[-1] if isinstance(x, str) else x).values[2:])"
   ]
  },
  {
   "cell_type": "code",
   "execution_count": 54,
   "metadata": {
    "collapsed": true
   },
   "outputs": [],
   "source": [
    "from collections import Counter"
   ]
  },
  {
   "cell_type": "code",
   "execution_count": 55,
   "metadata": {
    "collapsed": false
   },
   "outputs": [
    {
     "data": {
      "text/plain": [
       "Counter({'A': 25, 'V': 18})"
      ]
     },
     "execution_count": 55,
     "metadata": {},
     "output_type": "execute_result"
    }
   ],
   "source": [
    "Counter(''.join(real.values[2:]))"
   ]
  },
  {
   "cell_type": "code",
   "execution_count": 56,
   "metadata": {
    "collapsed": false
   },
   "outputs": [
    {
     "data": {
      "text/plain": [
       "Counter({'A': 18, 'V': 25})"
      ]
     },
     "execution_count": 56,
     "metadata": {},
     "output_type": "execute_result"
    }
   ],
   "source": [
    "Counter(''.join(pred[1].apply(lambda x: x[-1] if isinstance(x, str) else x).values[2:]))"
   ]
  },
  {
   "cell_type": "code",
   "execution_count": 351,
   "metadata": {
    "collapsed": false
   },
   "outputs": [],
   "source": [
    "%autoreload\n",
    "from seql import mc, utils"
   ]
  },
  {
   "cell_type": "code",
   "execution_count": 413,
   "metadata": {
    "collapsed": false
   },
   "outputs": [],
   "source": [
    "from sklearn import model_selection"
   ]
  },
  {
   "cell_type": "code",
   "execution_count": 414,
   "metadata": {
    "collapsed": true
   },
   "outputs": [],
   "source": [
    "group_kfold = model_selection.GroupKFold(n_splits=10)"
   ]
  },
  {
   "cell_type": "code",
   "execution_count": 464,
   "metadata": {
    "collapsed": false
   },
   "outputs": [],
   "source": [
    "results = []\n",
    "max_length = 2\n",
    "\n",
    "for quality in ['No trottling', 'Regular 4G', 'Regular 3G', 'Regular 2G']:\n",
    "    thesample = sample[sample.networkQuality == quality].drop('networkQuality', axis=1)\n",
    "    group_kfold = model_selection.GroupKFold(n_splits=10)\n",
    "    for train_idx, test_idx in group_kfold.split(thesample.values, groups=thesample.videoId.values):\n",
    "        model = mc.MarkovChainModel(DecisionTreeClassifier(), \n",
    "                                    target_label='class', sequence_split_label='videoId',\n",
    "                                    max_state_length=max_length)\n",
    "        model.fit(thesample.iloc[train_idx])\n",
    "        for length in [3, 4, 5, 6, 7, 8, 9, 10, 12, 15, 17, 20, 25]:\n",
    "            for vid in thesample.iloc[test_idx].videoId.unique():\n",
    "                subsample = thesample[thesample.videoId == vid].drop(['class', 'videoId'], axis=1)\n",
    "                if len(subsample) < length:\n",
    "                    continue\n",
    "                if length is not None:\n",
    "                    subsample = subsample.iloc[:length]\n",
    "                        \n",
    "                if len(subsample) > 0:\n",
    "                    pred = model.query(subsample, return_states_history=True)\n",
    "                    pred = pred[1].apply(lambda x: x[-1] if isinstance(x, str) else x)\n",
    "                    if length is not None:\n",
    "                        real = thesample[thesample.videoId == vid]['class'].iloc[:length]\n",
    "                    else:\n",
    "                        real = thesample[thesample.videoId == vid]['class']\n",
    "                    errors = pred.values != real.values\n",
    "                    results.append([sum(logical_and(errors, pred == 'V')), sum(logical_and(errors, pred == 'A')),\n",
    "                                   len(real), quality])"
   ]
  },
  {
   "cell_type": "code",
   "execution_count": 465,
   "metadata": {
    "collapsed": true
   },
   "outputs": [],
   "source": [
    "accuracy = pd.DataFrame(results, columns=['A->V', 'V->A', 'SeqLen', 'Quality'])"
   ]
  },
  {
   "cell_type": "code",
   "execution_count": 466,
   "metadata": {
    "collapsed": true
   },
   "outputs": [],
   "source": [
    "accuracy['V->A Ratio'] = accuracycyacy['V->A'] / accuracy['SeqLen']\n",
    "accuracy['A->V Ratio'] = accuracy['A->V'] / accuracy['SeqLen']"
   ]
  },
  {
   "cell_type": "code",
   "execution_count": 461,
   "metadata": {
    "collapsed": false
   },
   "outputs": [
    {
     "data": {
      "text/plain": [
       "<matplotlib.axes._subplots.AxesSubplot at 0x1219c55c0>"
      ]
     },
     "execution_count": 461,
     "metadata": {},
     "output_type": "execute_result"
    },
    {
     "data": {
      "image/png": "[encoded data removed]",
      "text/plain": [
       "<matplotlib.figure.Figure at 0x1219bb9e8>"
      ]
     },
     "metadata": {},
     "output_type": "display_data"
    }
   ],
   "source": [
    "accuracy.groupby('SeqLen')['V->A Ratio'].apply(mean).plot()\n",
    "accuracy.groupby('SeqLen')['A->V Ratio'].apply(mean).plot()"
   ]
  },
  {
   "cell_type": "code",
   "execution_count": 369,
   "metadata": {
    "collapsed": true
   },
   "outputs": [],
   "source": [
    "quality = 'No trottling' #'Regular 2G' #'No trottling'"
   ]
  },
  {
   "cell_type": "code",
   "execution_count": 408,
   "metadata": {
    "collapsed": false
   },
   "outputs": [
    {
     "data": {
      "text/plain": [
       "MarkovChainModel(base_estimator=CalibratedClassifierCV(base_estimator=DecisionTreeClassifier(class_weight=None, criterion='gini', max_depth=None,\n",
       "            max_features=None, max_leaf_nodes=None,\n",
       "            min_impurity_split=1e-07, min_samples_leaf=1,\n",
       "            min_samples_split=2, min_weight_fraction_leaf=0.0,\n",
       "            presort=False, random_state=None, splitter='best'),\n",
       "            cv=3, method='sigmoid'),\n",
       "         max_state_length=2, min_support=None,\n",
       "         sequence_split_label='videoId', target_label='class')"
      ]
     },
     "execution_count": 408,
     "metadata": {},
     "output_type": "execute_result"
    }
   ],
   "source": [
    "max_length = 2\n",
    "test_idx = range(50,70)\n",
    "model_nt = mc.MarkovChainModel(DecisionTreeClassifier(), target_label='class', sequence_split_label='videoId',\n",
    "                           max_state_length=max_length)\n",
    "xx = sample[sample.networkQuality == quality].drop('networkQuality', axis=1)\n",
    "xx = xx[logical_not(xx.videoId.isin([test_idx]))]\n",
    "model_nt.fit(xx)"
   ]
  },
  {
   "cell_type": "code",
   "execution_count": 409,
   "metadata": {
    "collapsed": false
   },
   "outputs": [],
   "source": [
    "preds = []\n",
    "reals = []\n",
    "for vid in test_idx:\n",
    "    subsample = sample[logical_and(sample.networkQuality == quality,\n",
    "                                   sample.videoId == vid)].drop(['networkQuality', 'class', 'videoId'], axis=1)\n",
    "    if len(subsample) > 0:\n",
    "        pred = model_nt.query(subsample, return_states_history=True)\n",
    "        preds.append(''.join(pred[1].apply(lambda x: x[-1] if isinstance(x, str) else x)))\n",
    "    #                  .replace('A','Z').replace('V', 'A').replace('Z', 'V'))\n",
    "        reals.append(''.join(sample[logical_and(sample.networkQuality == quality,\n",
    "                                      sample.videoId == vid)]['class']))"
   ]
  },
  {
   "cell_type": "code",
   "execution_count": 410,
   "metadata": {
    "collapsed": false
   },
   "outputs": [],
   "source": [
    "\n",
    "for i in range(len(preds)):\n",
    "    pred = array([val for val in preds[i]])\n",
    "    errors = pred != [val for val in reals[i]]\n",
    "    accuracy.ix[i]['A->V'] = sum(logical_and(errors, pred == 'V'))\n",
    "    accuracy.ix[i]['V->A'] = sum(logical_and(errors, pred == 'A'))\n",
    "    accuracy.ix[i]['Len'] = len(preds[i])"
   ]
  },
  {
   "cell_type": "code",
   "execution_count": 411,
   "metadata": {
    "collapsed": false
   },
   "outputs": [
    {
     "data": {
      "text/html": [
       "<div>\n",
       "<table border=\"1\" class=\"dataframe\">\n",
       "  <thead>\n",
       "    <tr style=\"text-align: right;\">\n",
       "      <th></th>\n",
       "      <th>A-&gt;V</th>\n",
       "      <th>V-&gt;A</th>\n",
       "      <th>Len</th>\n",
       "    </tr>\n",
       "  </thead>\n",
       "  <tbody>\n",
       "    <tr>\n",
       "      <th>0</th>\n",
       "      <td>0</td>\n",
       "      <td>0</td>\n",
       "      <td>17</td>\n",
       "    </tr>\n",
       "    <tr>\n",
       "      <th>1</th>\n",
       "      <td>0</td>\n",
       "      <td>0</td>\n",
       "      <td>49</td>\n",
       "    </tr>\n",
       "    <tr>\n",
       "      <th>2</th>\n",
       "      <td>0</td>\n",
       "      <td>0</td>\n",
       "      <td>14</td>\n",
       "    </tr>\n",
       "    <tr>\n",
       "      <th>3</th>\n",
       "      <td>0</td>\n",
       "      <td>0</td>\n",
       "      <td>12</td>\n",
       "    </tr>\n",
       "    <tr>\n",
       "      <th>4</th>\n",
       "      <td>0</td>\n",
       "      <td>0</td>\n",
       "      <td>68</td>\n",
       "    </tr>\n",
       "    <tr>\n",
       "      <th>5</th>\n",
       "      <td>0</td>\n",
       "      <td>1</td>\n",
       "      <td>24</td>\n",
       "    </tr>\n",
       "    <tr>\n",
       "      <th>6</th>\n",
       "      <td>0</td>\n",
       "      <td>0</td>\n",
       "      <td>89</td>\n",
       "    </tr>\n",
       "    <tr>\n",
       "      <th>7</th>\n",
       "      <td>0</td>\n",
       "      <td>0</td>\n",
       "      <td>10</td>\n",
       "    </tr>\n",
       "    <tr>\n",
       "      <th>8</th>\n",
       "      <td>0</td>\n",
       "      <td>0</td>\n",
       "      <td>22</td>\n",
       "    </tr>\n",
       "    <tr>\n",
       "      <th>9</th>\n",
       "      <td>0</td>\n",
       "      <td>1</td>\n",
       "      <td>17</td>\n",
       "    </tr>\n",
       "    <tr>\n",
       "      <th>10</th>\n",
       "      <td>0</td>\n",
       "      <td>0</td>\n",
       "      <td>17</td>\n",
       "    </tr>\n",
       "    <tr>\n",
       "      <th>11</th>\n",
       "      <td>1</td>\n",
       "      <td>0</td>\n",
       "      <td>19</td>\n",
       "    </tr>\n",
       "    <tr>\n",
       "      <th>12</th>\n",
       "      <td>0</td>\n",
       "      <td>0</td>\n",
       "      <td>15</td>\n",
       "    </tr>\n",
       "    <tr>\n",
       "      <th>13</th>\n",
       "      <td>0</td>\n",
       "      <td>0</td>\n",
       "      <td>39</td>\n",
       "    </tr>\n",
       "    <tr>\n",
       "      <th>14</th>\n",
       "      <td>0</td>\n",
       "      <td>0</td>\n",
       "      <td>27</td>\n",
       "    </tr>\n",
       "    <tr>\n",
       "      <th>15</th>\n",
       "      <td>1</td>\n",
       "      <td>1</td>\n",
       "      <td>64</td>\n",
       "    </tr>\n",
       "    <tr>\n",
       "      <th>16</th>\n",
       "      <td>0</td>\n",
       "      <td>0</td>\n",
       "      <td>11</td>\n",
       "    </tr>\n",
       "    <tr>\n",
       "      <th>17</th>\n",
       "      <td>0</td>\n",
       "      <td>0</td>\n",
       "      <td>19</td>\n",
       "    </tr>\n",
       "  </tbody>\n",
       "</table>\n",
       "</div>"
      ],
      "text/plain": [
       "   A->V V->A Len\n",
       "0     0    0  17\n",
       "1     0    0  49\n",
       "2     0    0  14\n",
       "3     0    0  12\n",
       "4     0    0  68\n",
       "5     0    1  24\n",
       "6     0    0  89\n",
       "7     0    0  10\n",
       "8     0    0  22\n",
       "9     0    1  17\n",
       "10    0    0  17\n",
       "11    1    0  19\n",
       "12    0    0  15\n",
       "13    0    0  39\n",
       "14    0    0  27\n",
       "15    1    1  64\n",
       "16    0    0  11\n",
       "17    0    0  19"
      ]
     },
     "execution_count": 411,
     "metadata": {},
     "output_type": "execute_result"
    }
   ],
   "source": [
    "accuracy"
   ]
  },
  {
   "cell_type": "code",
   "execution_count": 407,
   "metadata": {
    "collapsed": false
   },
   "outputs": [
    {
     "name": "stdout",
     "output_type": "stream",
     "text": [
      " VAAVAVAAVAAVAVAAVAVAAVAAVAAAAVAAVAAVAVAAVAAVA \n",
      " VAAVAVAAVAAVAVAAVAAAAVAAAAAAAVAAVAAVAVAAVAAVA\n"
     ]
    }
   ],
   "source": [
    "print('', preds[9],'\\n', reals[9])"
   ]
  },
  {
   "cell_type": "code",
   "execution_count": 346,
   "metadata": {
    "collapsed": false
   },
   "outputs": [
    {
     "data": {
      "text/plain": [
       "array(['V', 'V', 'V', 'V', 'V', 'A', 'V', 'A', 'V', 'A', 'V', 'A', 'A',\n",
       "       'V', 'A', 'A', 'V', 'A', 'A', 'A', 'A', 'V', 'A', 'A', 'V', 'A',\n",
       "       'V', 'A', 'A', 'A', 'A', 'A', 'V', 'V', 'A', 'A', 'A', 'A', 'A',\n",
       "       'A', 'A', 'V', 'A', 'A', 'A', 'A', 'A', 'A', 'V', 'V', 'A', 'A',\n",
       "       'A', 'A', 'A', 'A', 'V', 'A', 'V', 'A', 'V', 'V', 'V', 'V', 'A',\n",
       "       'V', 'V', 'A', 'V', 'A', 'V', 'A', 'A', 'V', 'A', 'V', 'V', 'A',\n",
       "       'A', 'V', 'A', 'V', 'V', 'A'], dtype=object)"
      ]
     },
     "execution_count": 346,
     "metadata": {},
     "output_type": "execute_result"
    }
   ],
   "source": [
    "pred[1].apply(lambda x: x[-1] if isinstance(x, str) else x).values[1:]"
   ]
  },
  {
   "cell_type": "code",
   "execution_count": 42,
   "metadata": {
    "collapsed": false
   },
   "outputs": [
    {
     "data": {
      "text/plain": [
       "'VAVAVAVVAAVAVAAVAVAVAAVAVAAVAVAAVAAVAVAVAAVVAAV'"
      ]
     },
     "execution_count": 42,
     "metadata": {},
     "output_type": "execute_result"
    }
   ],
   "source": [
    "''.join(sample[logical_and(sample.networkQuality == 'No trottling',\n",
    "                                  sample.videoId == 100)]['class'].values)"
   ]
  },
  {
   "cell_type": "code",
   "execution_count": 361,
   "metadata": {
    "collapsed": true
   },
   "outputs": [],
   "source": [
    "seq = ''.join(sample[logical_and(sample.networkQuality == 'No trottling',\n",
    "                                  sample.videoId == 0)]['class'].values)"
   ]
  },
  {
   "cell_type": "code",
   "execution_count": 362,
   "metadata": {
    "collapsed": true
   },
   "outputs": [],
   "source": [
    "dat =  sample[logical_and(sample.networkQuality == 'No trottling',\n",
    "                                  sample.videoId == 0)].drop(['networkQuality', 'class', 'videoId'], axis=1)"
   ]
  },
  {
   "cell_type": "code",
   "execution_count": 363,
   "metadata": {
    "collapsed": false
   },
   "outputs": [
    {
     "data": {
      "text/html": [
       "<div>\n",
       "<table border=\"1\" class=\"dataframe\">\n",
       "  <thead>\n",
       "    <tr style=\"text-align: right;\">\n",
       "      <th></th>\n",
       "      <th>downloadRate</th>\n",
       "      <th>requestNo</th>\n",
       "      <th>size</th>\n",
       "      <th>timeFromLastRequest</th>\n",
       "    </tr>\n",
       "  </thead>\n",
       "  <tbody>\n",
       "    <tr>\n",
       "      <th>36</th>\n",
       "      <td>1168.381372</td>\n",
       "      <td>36</td>\n",
       "      <td>115609</td>\n",
       "      <td>2.213</td>\n",
       "    </tr>\n",
       "    <tr>\n",
       "      <th>37</th>\n",
       "      <td>703.152364</td>\n",
       "      <td>37</td>\n",
       "      <td>67452</td>\n",
       "      <td>0.005</td>\n",
       "    </tr>\n",
       "    <tr>\n",
       "      <th>45</th>\n",
       "      <td>324.125963</td>\n",
       "      <td>45</td>\n",
       "      <td>115618</td>\n",
       "      <td>0.048</td>\n",
       "    </tr>\n",
       "    <tr>\n",
       "      <th>46</th>\n",
       "      <td>896.545047</td>\n",
       "      <td>46</td>\n",
       "      <td>78705</td>\n",
       "      <td>0.503</td>\n",
       "    </tr>\n",
       "    <tr>\n",
       "      <th>47</th>\n",
       "      <td>1454.357900</td>\n",
       "      <td>47</td>\n",
       "      <td>229105</td>\n",
       "      <td>0.222</td>\n",
       "    </tr>\n",
       "    <tr>\n",
       "      <th>53</th>\n",
       "      <td>1687.590877</td>\n",
       "      <td>53</td>\n",
       "      <td>162488</td>\n",
       "      <td>0.116</td>\n",
       "    </tr>\n",
       "    <tr>\n",
       "      <th>55</th>\n",
       "      <td>1116.780375</td>\n",
       "      <td>55</td>\n",
       "      <td>414464</td>\n",
       "      <td>0.496</td>\n",
       "    </tr>\n",
       "    <tr>\n",
       "      <th>57</th>\n",
       "      <td>4005.732944</td>\n",
       "      <td>57</td>\n",
       "      <td>793748</td>\n",
       "      <td>0.645</td>\n",
       "    </tr>\n",
       "    <tr>\n",
       "      <th>58</th>\n",
       "      <td>756.976612</td>\n",
       "      <td>58</td>\n",
       "      <td>227149</td>\n",
       "      <td>0.219</td>\n",
       "    </tr>\n",
       "    <tr>\n",
       "      <th>59</th>\n",
       "      <td>1084.842550</td>\n",
       "      <td>59</td>\n",
       "      <td>341196</td>\n",
       "      <td>0.238</td>\n",
       "    </tr>\n",
       "    <tr>\n",
       "      <th>60</th>\n",
       "      <td>1517.128097</td>\n",
       "      <td>60</td>\n",
       "      <td>1337400</td>\n",
       "      <td>3.142</td>\n",
       "    </tr>\n",
       "    <tr>\n",
       "      <th>63</th>\n",
       "      <td>1637.390485</td>\n",
       "      <td>63</td>\n",
       "      <td>356026</td>\n",
       "      <td>1.451</td>\n",
       "    </tr>\n",
       "    <tr>\n",
       "      <th>66</th>\n",
       "      <td>2918.094926</td>\n",
       "      <td>66</td>\n",
       "      <td>1247150</td>\n",
       "      <td>9.401</td>\n",
       "    </tr>\n",
       "    <tr>\n",
       "      <th>67</th>\n",
       "      <td>1300.677919</td>\n",
       "      <td>67</td>\n",
       "      <td>356482</td>\n",
       "      <td>0.457</td>\n",
       "    </tr>\n",
       "    <tr>\n",
       "      <th>69</th>\n",
       "      <td>1617.679594</td>\n",
       "      <td>69</td>\n",
       "      <td>345119</td>\n",
       "      <td>9.543</td>\n",
       "    </tr>\n",
       "    <tr>\n",
       "      <th>72</th>\n",
       "      <td>2252.384573</td>\n",
       "      <td>72</td>\n",
       "      <td>1333254</td>\n",
       "      <td>0.511</td>\n",
       "    </tr>\n",
       "    <tr>\n",
       "      <th>73</th>\n",
       "      <td>1092.561553</td>\n",
       "      <td>73</td>\n",
       "      <td>490830</td>\n",
       "      <td>0.629</td>\n",
       "    </tr>\n",
       "    <tr>\n",
       "      <th>74</th>\n",
       "      <td>2014.441831</td>\n",
       "      <td>74</td>\n",
       "      <td>483879</td>\n",
       "      <td>16.086</td>\n",
       "    </tr>\n",
       "    <tr>\n",
       "      <th>75</th>\n",
       "      <td>3606.425347</td>\n",
       "      <td>75</td>\n",
       "      <td>977078</td>\n",
       "      <td>6.277</td>\n",
       "    </tr>\n",
       "    <tr>\n",
       "      <th>77</th>\n",
       "      <td>2920.999597</td>\n",
       "      <td>77</td>\n",
       "      <td>224657</td>\n",
       "      <td>2.088</td>\n",
       "    </tr>\n",
       "  </tbody>\n",
       "</table>\n",
       "</div>"
      ],
      "text/plain": [
       "    downloadRate  requestNo     size  timeFromLastRequest\n",
       "36   1168.381372         36   115609                2.213\n",
       "37    703.152364         37    67452                0.005\n",
       "45    324.125963         45   115618                0.048\n",
       "46    896.545047         46    78705                0.503\n",
       "47   1454.357900         47   229105                0.222\n",
       "53   1687.590877         53   162488                0.116\n",
       "55   1116.780375         55   414464                0.496\n",
       "57   4005.732944         57   793748                0.645\n",
       "58    756.976612         58   227149                0.219\n",
       "59   1084.842550         59   341196                0.238\n",
       "60   1517.128097         60  1337400                3.142\n",
       "63   1637.390485         63   356026                1.451\n",
       "66   2918.094926         66  1247150                9.401\n",
       "67   1300.677919         67   356482                0.457\n",
       "69   1617.679594         69   345119                9.543\n",
       "72   2252.384573         72  1333254                0.511\n",
       "73   1092.561553         73   490830                0.629\n",
       "74   2014.441831         74   483879               16.086\n",
       "75   3606.425347         75   977078                6.277\n",
       "77   2920.999597         77   224657                2.088"
      ]
     },
     "execution_count": 363,
     "metadata": {},
     "output_type": "execute_result"
    }
   ],
   "source": [
    "dat"
   ]
  },
  {
   "cell_type": "markdown",
   "metadata": {},
   "source": [
    "$T_{1}[j,i]\\gets B_{jy_{i}}\\cdot \\max _{k}{(T_{1}[k,i-1]\\cdot A_{kj})}$\n",
    "\n",
    "$T_{2}[j,i]\\gets \\arg \\max _{k}{(T_{1}[k,i-1]\\cdot A_{kj}})$"
   ]
  },
  {
   "cell_type": "code",
   "execution_count": 364,
   "metadata": {
    "collapsed": false
   },
   "outputs": [],
   "source": [
    "def _viterbi(self, emission_matrix):\n",
    "    sample_length = len(emission_matrix)\n",
    "    trans1 = pd.DataFrame(index=emission_matrix.columns,\n",
    "                          columns=range(sample_length))\n",
    "    trans2 = pd.DataFrame(index=emission_matrix.columns,\n",
    "                          columns=range(sample_length))\n",
    "    trans1[0] = (emission_matrix.ix[0] * self.init_probas).fillna(0)\n",
    "    trans2[0] = 0\n",
    "    # TODO: refactoring fot faster matrix opertations\n",
    "    for i in range(1, sample_length):\n",
    "        t = (np.tile(trans1[i-1], (len(self.transition_matrix), 1)) * self.transition_matrix.T)\n",
    "#         for state in self.transition_matrix.columns:\n",
    "#             t = pd.Series(index=self.transition_matrix.columns)\n",
    "#             for state_prev in self.transition_matrix.columns:\n",
    "#                 t.ix[state_prev] = trans1[i-1].ix[state_prev] * self.transition_matrix[state_prev].ix[state]\n",
    "#             trans1[i].ix[state] = emission_matrix.ix[i][state] * t.ix[state].max()\n",
    "#             trans2[i].ix[state] = t.ix[state].idxmax()\n",
    "#         print(t.max(axis=1))\n",
    "        trans1[i] = emission_matrix.ix[i] * t.max(axis=1)\n",
    "        trans2[i] = t.idxmax(axis=1)\n",
    "#         print(trans2[i].values.flatten())\n",
    "        \n",
    "    print(trans2)\n",
    "\n",
    "    zt = pd.Series(index=range(sample_length))\n",
    "    xt = pd.Series(index=range(sample_length))\n",
    "    zt[sample_length - 1] = trans1[sample_length - 1].idxmax()\n",
    "    xt[sample_length - 1] = zt[sample_length - 1]\n",
    "    for i in range(sample_length - 1, 0, -1):\n",
    "        zt[i - 1] = trans2[i][zt[i]]\n",
    "        xt[i - 1] = zt[i - 1]\n",
    "    return xt"
   ]
  },
  {
   "cell_type": "code",
   "execution_count": 365,
   "metadata": {
    "collapsed": false
   },
   "outputs": [
    {
     "data": {
      "text/plain": [
       "<matplotlib.axes._subplots.AxesSubplot at 0x120cb4fd0>"
      ]
     },
     "execution_count": 365,
     "metadata": {},
     "output_type": "execute_result"
    },
    {
     "data": {
      "image/png": "[encoded data removed]",
      "text/plain": [
       "<matplotlib.figure.Figure at 0x11763ba90>"
      ]
     },
     "metadata": {},
     "output_type": "display_data"
    }
   ],
   "source": [
    "sns.heatmap(emission_matrix.T)"
   ]
  },
  {
   "cell_type": "code",
   "execution_count": 366,
   "metadata": {
    "collapsed": false
   },
   "outputs": [
    {
     "data": {
      "text/plain": [
       "<matplotlib.axes._subplots.AxesSubplot at 0x120a704e0>"
      ]
     },
     "execution_count": 366,
     "metadata": {},
     "output_type": "execute_result"
    },
    {
     "data": {
      "image/png": "[encoded data removed]",
      "text/plain": [
       "<matplotlib.figure.Figure at 0x11763ff98>"
      ]
     },
     "metadata": {},
     "output_type": "display_data"
    }
   ],
   "source": [
    "sns.heatmap(model_nt.transition_matrix)"
   ]
  },
  {
   "cell_type": "code",
   "execution_count": 367,
   "metadata": {
    "collapsed": false
   },
   "outputs": [
    {
     "name": "stdout",
     "output_type": "stream",
     "text": [
      "     0  1   2    3    4    5    6    7    8    9    10   11   12   13   14  \\\n",
      "A     0  A   A    A    A    A    A    A    A    A    A    A    A    A    A   \n",
      "AA    0  A   A    A    A    A    A    A    A    A    A    A    A    A    A   \n",
      "AAA   0  A   A  VAA  AAA  VAA  AAA  VAA  VAA  VAA  AAA  VAA  VAA  VAA  VAA   \n",
      "AAV   0  A  AA  VAA  AAA  VAA  VAA  VAA  VAA  VAA  VAA  VAA  VAA  VAA  VAA   \n",
      "AV    0  A   A    A    A    A    A    A    A    A    A    A    A    A    A   \n",
      "AVA   0  A  AV  VAV  AAV  VAV  AAV  VAV  VAV  VAV  AAV  VAV  VAV  VAV  VAV   \n",
      "AVV   0  A  AV  VAV  AAV  VAV  AAV  VAV  VAV  VAV  AAV  VAV  VAV  VAV  VAV   \n",
      "V     0  A   A    A    A    A    A    A    A    A    A    A    A    A    A   \n",
      "VA    0  V   A    A    A    A    A    A    A    A    A    A    A    A    A   \n",
      "VAA   0  A  VA  VVA  AVA  AVA  AVA  VVA  VVA  VVA  AVA  VVA  VVA  VVA  VVA   \n",
      "VAV   0  A  VA  VVA  AVA  AVA  AVA  VVA  VVA  VVA  AVA  VVA  VVA  VVA  VVA   \n",
      "VV    0  V   A    A    A    A    A    A    A    A    A    A    A    A    A   \n",
      "VVA   0  A  VV  AVV  AVV  AVV  AVV  VVV  VVV  VVV  AVV  VVV  VVV  VVV  VVV   \n",
      "VVV   0  A   A  AVV  AVV  VVV  AVV  VVV  VVV  VVV  VVV  VVV  VVV  VVV  VVV   \n",
      "^     0  A   A    A    A    A    A    A    A    A    A    A    A    A    A   \n",
      "\n",
      "      15   16   17   18   19  \n",
      "A      A    A    A    A    A  \n",
      "AA     A    A    A    A    A  \n",
      "AAA  VAA  VAA  VAA  VAA  VAA  \n",
      "AAV  VAA  VAA  VAA  VAA  VAA  \n",
      "AV     A    A    A    A    A  \n",
      "AVA  VAV  VAV  VAV  VAV  VAV  \n",
      "AVV  VAV  VAV  VAV  VAV  VAV  \n",
      "V      A    A    A    A    A  \n",
      "VA     A    A    A    A    A  \n",
      "VAA  VVA  VVA  VVA  VVA  VVA  \n",
      "VAV  VVA  VVA  VVA  VVA  VVA  \n",
      "VV     A    A    A    A    A  \n",
      "VVA  VVV  VVV  VVV  VVV  VVV  \n",
      "VVV  VVV  VVV  VVV  VVV  VVV  \n",
      "^      A    A    A    A    A  \n"
     ]
    }
   ],
   "source": [
    "probas = model_nt.base_estimator.predict_proba(dat)\n",
    "emission_matrix = model_nt._get_emission_matrix(probas, model_nt.init_probas)\n",
    "states = _viterbi(model_nt, emission_matrix=emission_matrix)"
   ]
  },
  {
   "cell_type": "code",
   "execution_count": 368,
   "metadata": {
    "collapsed": false
   },
   "outputs": [
    {
     "data": {
      "text/plain": [
       "0       V\n",
       "1      VA\n",
       "2     VAV\n",
       "3     AVA\n",
       "4     VAV\n",
       "5     AVV\n",
       "6     VVV\n",
       "7     VVV\n",
       "8     VVV\n",
       "9     VVV\n",
       "10    VVV\n",
       "11    VVV\n",
       "12    VVV\n",
       "13    VVV\n",
       "14    VVV\n",
       "15    VVV\n",
       "16    VVV\n",
       "17    VVV\n",
       "18    VVV\n",
       "19    VVV\n",
       "dtype: object"
      ]
     },
     "execution_count": 368,
     "metadata": {},
     "output_type": "execute_result"
    }
   ],
   "source": [
    "states"
   ]
  },
  {
   "cell_type": "code",
   "execution_count": 261,
   "metadata": {
    "collapsed": false
   },
   "outputs": [
    {
     "data": {
      "text/plain": [
       "'VAVAVAVVAAVAVAAVAAVA'"
      ]
     },
     "execution_count": 261,
     "metadata": {},
     "output_type": "execute_result"
    }
   ],
   "source": [
    "seq"
   ]
  },
  {
   "cell_type": "code",
   "execution_count": null,
   "metadata": {
    "collapsed": true
   },
   "outputs": [],
   "source": []
  }
 ],
 "metadata": {
  "kernelspec": {
   "display_name": "Python 3",
   "language": "python",
   "name": "python3"
  },
  "language_info": {
   "codemirror_mode": {
    "name": "ipython",
    "version": 3
   },
   "file_extension": ".py",
   "mimetype": "text/x-python",
   "name": "python",
   "nbconvert_exporter": "python",
   "pygments_lexer": "ipython3",
   "version": "3.6.0"
  }
 },
 "nbformat": 4,
 "nbformat_minor": 2
}
